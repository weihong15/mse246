{
 "cells": [
  {
   "cell_type": "code",
   "execution_count": 1,
   "metadata": {},
   "outputs": [
    {
     "name": "stdout",
     "output_type": "stream",
     "text": [
      "246 Project.pdf\r\n",
      "SBA Loan data .xlsx\r\n",
      "SBA Loan database variable description.pdf\r\n",
      "mse246Proj.ipynb\r\n",
      "~$SBA Loan data .xlsx\r\n"
     ]
    }
   ],
   "source": [
    "!ls"
   ]
  },
  {
   "cell_type": "code",
   "execution_count": 3,
   "metadata": {},
   "outputs": [],
   "source": [
    "import pandas as pd\n",
    "\n",
    "df = pd.read_excel(\"SBA Loan data .xlsx\")"
   ]
  },
  {
   "cell_type": "code",
   "execution_count": 4,
   "metadata": {},
   "outputs": [
    {
     "data": {
      "text/html": [
       "<div>\n",
       "<style scoped>\n",
       "    .dataframe tbody tr th:only-of-type {\n",
       "        vertical-align: middle;\n",
       "    }\n",
       "\n",
       "    .dataframe tbody tr th {\n",
       "        vertical-align: top;\n",
       "    }\n",
       "\n",
       "    .dataframe thead th {\n",
       "        text-align: right;\n",
       "    }\n",
       "</style>\n",
       "<table border=\"1\" class=\"dataframe\">\n",
       "  <thead>\n",
       "    <tr style=\"text-align: right;\">\n",
       "      <th></th>\n",
       "      <th>Program</th>\n",
       "      <th>BorrName</th>\n",
       "      <th>BorrStreet</th>\n",
       "      <th>BorrCity</th>\n",
       "      <th>BorrState</th>\n",
       "      <th>BorrZip</th>\n",
       "      <th>CDC_Name</th>\n",
       "      <th>CDC_Street</th>\n",
       "      <th>CDC_City</th>\n",
       "      <th>CDC_State</th>\n",
       "      <th>...</th>\n",
       "      <th>InitialInterestRate</th>\n",
       "      <th>TermInMonths</th>\n",
       "      <th>NaicsCode</th>\n",
       "      <th>NaicsDescription</th>\n",
       "      <th>ProjectCounty</th>\n",
       "      <th>ProjectState</th>\n",
       "      <th>BusinessType</th>\n",
       "      <th>LoanStatus</th>\n",
       "      <th>ChargeOffDate</th>\n",
       "      <th>GrossChargeOffAmount</th>\n",
       "    </tr>\n",
       "  </thead>\n",
       "  <tbody>\n",
       "    <tr>\n",
       "      <th>0</th>\n",
       "      <td>504</td>\n",
       "      <td>ROBERT G. FIELDS AND MARY D. F</td>\n",
       "      <td>55 &amp; RICHLAND</td>\n",
       "      <td>KANSAS CITY</td>\n",
       "      <td>KS</td>\n",
       "      <td>66106</td>\n",
       "      <td>Avenue Area Incorporated</td>\n",
       "      <td>3324 Emerald Lane</td>\n",
       "      <td>Jefferson City</td>\n",
       "      <td>MO</td>\n",
       "      <td>...</td>\n",
       "      <td>NaN</td>\n",
       "      <td>12</td>\n",
       "      <td>NaN</td>\n",
       "      <td>NaN</td>\n",
       "      <td>WYANDOTTE</td>\n",
       "      <td>KS</td>\n",
       "      <td>INDIVIDUAL</td>\n",
       "      <td>PIF</td>\n",
       "      <td>NaT</td>\n",
       "      <td>0.0</td>\n",
       "    </tr>\n",
       "    <tr>\n",
       "      <th>1</th>\n",
       "      <td>504</td>\n",
       "      <td>CANDLELAMP COMPANY</td>\n",
       "      <td>3454 NIKI WAY</td>\n",
       "      <td>RIVERSIDE</td>\n",
       "      <td>CA</td>\n",
       "      <td>92507</td>\n",
       "      <td>CDC Small Business Finance Cor</td>\n",
       "      <td>2448 Historic Decatur</td>\n",
       "      <td>San Diego</td>\n",
       "      <td>CA</td>\n",
       "      <td>...</td>\n",
       "      <td>NaN</td>\n",
       "      <td>240</td>\n",
       "      <td>NaN</td>\n",
       "      <td>NaN</td>\n",
       "      <td>RIVERSIDE</td>\n",
       "      <td>CA</td>\n",
       "      <td>INDIVIDUAL</td>\n",
       "      <td>PIF</td>\n",
       "      <td>NaT</td>\n",
       "      <td>0.0</td>\n",
       "    </tr>\n",
       "    <tr>\n",
       "      <th>2</th>\n",
       "      <td>504</td>\n",
       "      <td>NATIONAL COMPOSITES, INC.</td>\n",
       "      <td>2303 N. BENDIX DRIVE</td>\n",
       "      <td>SOUTH BEND</td>\n",
       "      <td>IN</td>\n",
       "      <td>46628</td>\n",
       "      <td>Business Development Corporati</td>\n",
       "      <td>218 W. Washington Street</td>\n",
       "      <td>South Bend</td>\n",
       "      <td>IN</td>\n",
       "      <td>...</td>\n",
       "      <td>NaN</td>\n",
       "      <td>120</td>\n",
       "      <td>NaN</td>\n",
       "      <td>NaN</td>\n",
       "      <td>ST JOSEPH</td>\n",
       "      <td>IN</td>\n",
       "      <td>CORPORATION</td>\n",
       "      <td>PIF</td>\n",
       "      <td>NaT</td>\n",
       "      <td>0.0</td>\n",
       "    </tr>\n",
       "    <tr>\n",
       "      <th>3</th>\n",
       "      <td>504</td>\n",
       "      <td>WENDY'S OF HARRISBURG</td>\n",
       "      <td>OUTLOT A. TR. 45N &amp; SMALL ST</td>\n",
       "      <td>HARRISBURG</td>\n",
       "      <td>IL</td>\n",
       "      <td>62946</td>\n",
       "      <td>Small Business Growth Corporat</td>\n",
       "      <td>2401 West White Oaks Drive</td>\n",
       "      <td>Springfield</td>\n",
       "      <td>IL</td>\n",
       "      <td>...</td>\n",
       "      <td>NaN</td>\n",
       "      <td>240</td>\n",
       "      <td>NaN</td>\n",
       "      <td>NaN</td>\n",
       "      <td>SALINE</td>\n",
       "      <td>IL</td>\n",
       "      <td>CORPORATION</td>\n",
       "      <td>CHGOFF</td>\n",
       "      <td>2003-03-28</td>\n",
       "      <td>0.0</td>\n",
       "    </tr>\n",
       "    <tr>\n",
       "      <th>4</th>\n",
       "      <td>504</td>\n",
       "      <td>RON SAUNORIS GARDEN CTR, INC.</td>\n",
       "      <td>13747 W. 159TH ST.</td>\n",
       "      <td>LOCKPORT</td>\n",
       "      <td>IL</td>\n",
       "      <td>60441</td>\n",
       "      <td>MISSNG/INACTV LENDER</td>\n",
       "      <td>NaN</td>\n",
       "      <td>NaN</td>\n",
       "      <td>NaN</td>\n",
       "      <td>...</td>\n",
       "      <td>NaN</td>\n",
       "      <td>240</td>\n",
       "      <td>NaN</td>\n",
       "      <td>NaN</td>\n",
       "      <td>WILL</td>\n",
       "      <td>IL</td>\n",
       "      <td>CORPORATION</td>\n",
       "      <td>CANCLD</td>\n",
       "      <td>NaT</td>\n",
       "      <td>0.0</td>\n",
       "    </tr>\n",
       "  </tbody>\n",
       "</table>\n",
       "<p>5 rows × 30 columns</p>\n",
       "</div>"
      ],
      "text/plain": [
       "   Program                        BorrName                    BorrStreet  \\\n",
       "0      504  ROBERT G. FIELDS AND MARY D. F                 55 & RICHLAND   \n",
       "1      504              CANDLELAMP COMPANY                 3454 NIKI WAY   \n",
       "2      504       NATIONAL COMPOSITES, INC.          2303 N. BENDIX DRIVE   \n",
       "3      504           WENDY'S OF HARRISBURG  OUTLOT A. TR. 45N & SMALL ST   \n",
       "4      504   RON SAUNORIS GARDEN CTR, INC.            13747 W. 159TH ST.   \n",
       "\n",
       "      BorrCity BorrState  BorrZip                        CDC_Name  \\\n",
       "0  KANSAS CITY        KS    66106        Avenue Area Incorporated   \n",
       "1    RIVERSIDE        CA    92507  CDC Small Business Finance Cor   \n",
       "2   SOUTH BEND        IN    46628  Business Development Corporati   \n",
       "3   HARRISBURG        IL    62946  Small Business Growth Corporat   \n",
       "4     LOCKPORT        IL    60441            MISSNG/INACTV LENDER   \n",
       "\n",
       "                   CDC_Street        CDC_City CDC_State  ...  \\\n",
       "0           3324 Emerald Lane  Jefferson City        MO  ...   \n",
       "1       2448 Historic Decatur       San Diego        CA  ...   \n",
       "2    218 W. Washington Street      South Bend        IN  ...   \n",
       "3  2401 West White Oaks Drive     Springfield        IL  ...   \n",
       "4                         NaN             NaN       NaN  ...   \n",
       "\n",
       "   InitialInterestRate TermInMonths NaicsCode NaicsDescription  ProjectCounty  \\\n",
       "0                  NaN           12       NaN              NaN      WYANDOTTE   \n",
       "1                  NaN          240       NaN              NaN      RIVERSIDE   \n",
       "2                  NaN          120       NaN              NaN      ST JOSEPH   \n",
       "3                  NaN          240       NaN              NaN         SALINE   \n",
       "4                  NaN          240       NaN              NaN           WILL   \n",
       "\n",
       "   ProjectState BusinessType  LoanStatus ChargeOffDate GrossChargeOffAmount  \n",
       "0            KS   INDIVIDUAL         PIF           NaT                  0.0  \n",
       "1            CA   INDIVIDUAL         PIF           NaT                  0.0  \n",
       "2            IN  CORPORATION         PIF           NaT                  0.0  \n",
       "3            IL  CORPORATION      CHGOFF    2003-03-28                  0.0  \n",
       "4            IL  CORPORATION      CANCLD           NaT                  0.0  \n",
       "\n",
       "[5 rows x 30 columns]"
      ]
     },
     "execution_count": 4,
     "metadata": {},
     "output_type": "execute_result"
    }
   ],
   "source": [
    "df.head()"
   ]
  },
  {
   "cell_type": "code",
   "execution_count": 5,
   "metadata": {},
   "outputs": [
    {
     "data": {
      "text/plain": [
       "Index(['Program', 'BorrName', 'BorrStreet', 'BorrCity', 'BorrState', 'BorrZip',\n",
       "       'CDC_Name', 'CDC_Street', 'CDC_City', 'CDC_State', 'CDC_Zip',\n",
       "       'ThirdPartyLender_Name', 'ThirdPartyLender_City',\n",
       "       'ThirdPartyLender_State', 'ThirdPartyDollars', 'GrossApproval',\n",
       "       'ApprovalDate', 'ApprovalFiscalYear', 'DeliveryMethod', 'subpgmdesc',\n",
       "       'InitialInterestRate', 'TermInMonths', 'NaicsCode', 'NaicsDescription',\n",
       "       'ProjectCounty', 'ProjectState', 'BusinessType', 'LoanStatus',\n",
       "       'ChargeOffDate', 'GrossChargeOffAmount'],\n",
       "      dtype='object')"
      ]
     },
     "execution_count": 5,
     "metadata": {},
     "output_type": "execute_result"
    }
   ],
   "source": [
    "df.columns"
   ]
  },
  {
   "cell_type": "code",
   "execution_count": 9,
   "metadata": {},
   "outputs": [],
   "source": [
    "df= df[(df.LoanStatus == \"PIF\") | (df.LoanStatus == \"CHGOFF\")]\n",
    "## loan is either paid in full or written off(charge off)"
   ]
  },
  {
   "cell_type": "code",
   "execution_count": 10,
   "metadata": {},
   "outputs": [
    {
     "data": {
      "text/plain": [
       "array(['PIF', 'CHGOFF'], dtype=object)"
      ]
     },
     "execution_count": 10,
     "metadata": {},
     "output_type": "execute_result"
    }
   ],
   "source": [
    "df.LoanStatus.unique()"
   ]
  },
  {
   "cell_type": "code",
   "execution_count": 30,
   "metadata": {},
   "outputs": [
    {
     "data": {
      "text/plain": [
       "array(['WYANDOTTE', 'RIVERSIDE', 'ST JOSEPH', ..., 'WHITESIDE', 'GOVE',\n",
       "       'DEUEL'], dtype=object)"
      ]
     },
     "execution_count": 30,
     "metadata": {},
     "output_type": "execute_result"
    }
   ],
   "source": [
    "df.ProjectCounty.unique()"
   ]
  },
  {
   "cell_type": "code",
   "execution_count": 39,
   "metadata": {},
   "outputs": [
    {
     "data": {
      "text/plain": [
       "array([['nan', nan],\n",
       "       ['nan', nan],\n",
       "       ['nan', nan],\n",
       "       ...,\n",
       "       ['333220.0',\n",
       "        'Plastics and Rubber Industry Machinery Manufacturing'],\n",
       "       ['238210.0',\n",
       "        'Electrical Contractors and other Wiring Installation Contractors'],\n",
       "       ['332710.0', 'Machine Shops']], dtype=object)"
      ]
     },
     "execution_count": 39,
     "metadata": {},
     "output_type": "execute_result"
    }
   ],
   "source": [
    "df[['NaicsCode', 'NaicsDescription']].values"
   ]
  },
  {
   "cell_type": "code",
   "execution_count": 42,
   "metadata": {},
   "outputs": [],
   "source": [
    "df.NaicsDescription = df.NaicsDescription.astype(str)"
   ]
  },
  {
   "cell_type": "code",
   "execution_count": 45,
   "metadata": {},
   "outputs": [
    {
     "data": {
      "text/plain": [
       "1080"
      ]
     },
     "execution_count": 45,
     "metadata": {},
     "output_type": "execute_result"
    }
   ],
   "source": [
    "len(df.NaicsCode.unique())"
   ]
  },
  {
   "cell_type": "code",
   "execution_count": 43,
   "metadata": {},
   "outputs": [
    {
     "data": {
      "text/plain": [
       "array(['111211.0', '111219.0', '111331.0', ..., 'Yarn Spinning Mills',\n",
       "       'Yarn Texturizing, Throwing, and Twisting Mills', 'nan'],\n",
       "      dtype=object)"
      ]
     },
     "execution_count": 43,
     "metadata": {},
     "output_type": "execute_result"
    }
   ],
   "source": [
    "import numpy as np\n",
    "np.unique(df[['NaicsCode', 'NaicsDescription']].values)"
   ]
  },
  {
   "cell_type": "code",
   "execution_count": 46,
   "metadata": {},
   "outputs": [
    {
     "data": {
      "text/plain": [
       "array([['nan', 'nan'],\n",
       "       ['nan', 'nan'],\n",
       "       ['nan', 'nan'],\n",
       "       ...,\n",
       "       ['333220.0',\n",
       "        'Plastics and Rubber Industry Machinery Manufacturing'],\n",
       "       ['238210.0',\n",
       "        'Electrical Contractors and other Wiring Installation Contractors'],\n",
       "       ['332710.0', 'Machine Shops']], dtype=object)"
      ]
     },
     "execution_count": 46,
     "metadata": {},
     "output_type": "execute_result"
    }
   ],
   "source": [
    "df[['NaicsCode', 'NaicsDescription']].values"
   ]
  },
  {
   "cell_type": "code",
   "execution_count": 56,
   "metadata": {},
   "outputs": [],
   "source": [
    "s = set()\n",
    "naics_mapping = {}\n",
    "ls = df[['NaicsCode', 'NaicsDescription']].values\n",
    "for row in ls:\n",
    "    num,des = row\n",
    "    if num == \"nan\":\n",
    "        continue\n",
    "    num = int(float(num))\n",
    "    naics_mapping[num] = des"
   ]
  },
  {
   "cell_type": "code",
   "execution_count": 71,
   "metadata": {},
   "outputs": [
    {
     "data": {
      "text/plain": [
       "Index(['Program', 'BorrName', 'BorrStreet', 'BorrCity', 'BorrState', 'BorrZip',\n",
       "       'CDC_Name', 'CDC_Street', 'CDC_City', 'CDC_State', 'CDC_Zip',\n",
       "       'ThirdPartyLender_Name', 'ThirdPartyLender_City',\n",
       "       'ThirdPartyLender_State', 'ThirdPartyDollars', 'GrossApproval',\n",
       "       'ApprovalDate', 'ApprovalFiscalYear', 'DeliveryMethod', 'subpgmdesc',\n",
       "       'InitialInterestRate', 'TermInMonths', 'NaicsCode', 'NaicsDescription',\n",
       "       'ProjectCounty', 'ProjectState', 'BusinessType', 'LoanStatus',\n",
       "       'ChargeOffDate', 'GrossChargeOffAmount'],\n",
       "      dtype='object')"
      ]
     },
     "execution_count": 71,
     "metadata": {},
     "output_type": "execute_result"
    }
   ],
   "source": [
    "df.columns"
   ]
  },
  {
   "cell_type": "markdown",
   "metadata": {},
   "source": [
    "## Useful\n",
    "* third part dollars\n",
    "* gross approval\n",
    "* delivery method???\n",
    "* initial interest rate\n",
    "* terms duration(in months)\n",
    "* naics??? (sectors)\n",
    "* laon status\n",
    "* chargeoffdate\n",
    "* GrosschargeOffAmt\n",
    "\n",
    "## maybe useful\n",
    "* approve date(???)\n",
    "\n",
    "## Not useful columns\n",
    "\n",
    "* Program: just a single value of 504\n",
    "* BorrName: Name of borrower\n",
    "* BorrStreet: who cares about the street\n",
    "* NaicsDescription: this is just naicsCode, with description, stored in dict\n",
    "* CDC_Street: uselss\n",
    "* third party lender: 2.3k unique\n",
    "* \n",
    "\n",
    "Might be useful\n",
    "* CDC_Name, 296 distinct out of 50k\n"
   ]
  },
  {
   "cell_type": "markdown",
   "metadata": {},
   "source": []
  }
 ],
 "metadata": {
  "kernelspec": {
   "display_name": "Python 3",
   "language": "python",
   "name": "python3"
  },
  "language_info": {
   "codemirror_mode": {
    "name": "ipython",
    "version": 3
   },
   "file_extension": ".py",
   "mimetype": "text/x-python",
   "name": "python",
   "nbconvert_exporter": "python",
   "pygments_lexer": "ipython3",
   "version": "3.8.5"
  },
  "toc": {
   "base_numbering": 1,
   "nav_menu": {},
   "number_sections": true,
   "sideBar": true,
   "skip_h1_title": false,
   "title_cell": "Table of Contents",
   "title_sidebar": "Contents",
   "toc_cell": false,
   "toc_position": {},
   "toc_section_display": true,
   "toc_window_display": false
  }
 },
 "nbformat": 4,
 "nbformat_minor": 4
}
