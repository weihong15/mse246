{
 "cells": [
  {
   "cell_type": "code",
   "execution_count": 1,
   "metadata": {},
   "outputs": [],
   "source": [
    "import pandas as pd\n",
    "\n",
    "train_data = pd.read_csv(\"random_hazard_train0314.csv\")\n",
    "test_data = pd.read_csv(\"random_hazard_test0314.csv\")\n",
    "\n",
    "train_default = train_data[train_data['Default?'] == 1].copy()\n",
    "test_default = test_data[test_data['Default?'] == 1].copy()\n"
   ]
  },
  {
   "cell_type": "code",
   "execution_count": 2,
   "metadata": {},
   "outputs": [],
   "source": [
    "train_default[\"loss_ratio\"] = train_default.GrossChargeOffAmount/train_default.GrossApproval\n",
    "import numpy as np\n",
    "train_default.loss_ratio = np.minimum(1.0,train_default.loss_ratio)\n",
    "\n",
    "test_default[\"loss_ratio\"] = test_default.GrossChargeOffAmount/test_default.GrossApproval\n",
    "test_default.loss_ratio = np.minimum(1.0,test_default.loss_ratio)"
   ]
  },
  {
   "cell_type": "code",
   "execution_count": 3,
   "metadata": {},
   "outputs": [],
   "source": [
    "cols_to_keep = ['ApprovalFiscalYear',\n",
    " 'DeliveryMethod',\n",
    " 'subpgmdesc',\n",
    " 'TermInMonths',\n",
    " 'BusinessType',\n",
    " 'SP500_Yearly_Return',\n",
    " 'CPI',\n",
    " 'Yearly_Unemployment_Rate',\n",
    " 'Log_Yearly_Unemployment_Rate_Norm',\n",
    " 'Log_HPI_Norm',\n",
    " 'ThirdPartyDollars_Norm',\n",
    " 'TermMultipleYear',\n",
    " 'RepeatBorrower',\n",
    " 'BankStateneqBorrowerState',\n",
    " 'ProjectStateneqBorrowerState',\n",
    " '2DigitNaics',\n",
    " 'DaysToDefault',\n",
    " 'loss_ratio']\n",
    "train_default = train_default[cols_to_keep]\n",
    "test_default = test_default[cols_to_keep]"
   ]
  },
  {
   "cell_type": "raw",
   "metadata": {},
   "source": [
    "introduce dummy variables for categorical variables"
   ]
  },
  {
   "cell_type": "code",
   "execution_count": 4,
   "metadata": {},
   "outputs": [],
   "source": [
    "x_train = pd.get_dummies(train_default)\n",
    "x_test = pd.get_dummies(test_default)"
   ]
  },
  {
   "cell_type": "code",
   "execution_count": 5,
   "metadata": {},
   "outputs": [
    {
     "data": {
      "text/plain": [
       "Index(['ApprovalFiscalYear', 'TermInMonths', 'SP500_Yearly_Return', 'CPI',\n",
       "       'Yearly_Unemployment_Rate', 'Log_Yearly_Unemployment_Rate_Norm',\n",
       "       'Log_HPI_Norm', 'ThirdPartyDollars_Norm', 'TermMultipleYear',\n",
       "       'RepeatBorrower', 'BankStateneqBorrowerState',\n",
       "       'ProjectStateneqBorrowerState', 'DaysToDefault', 'loss_ratio',\n",
       "       'DeliveryMethod_504', 'DeliveryMethod_504REFI', 'DeliveryMethod_ALP',\n",
       "       'DeliveryMethod_PCLP', 'subpgmdesc_504 Refinance',\n",
       "       'subpgmdesc_Sec. 504 - Delta loans, funded 9/26/95',\n",
       "       'subpgmdesc_Sec. 504 - Loan Guarantees - Private Sector Financed',\n",
       "       'subpgmdesc_Sec. 504 - Premier Certified Lender Program',\n",
       "       'BusinessType_CORPORATION', 'BusinessType_INDIVIDUAL',\n",
       "       'BusinessType_MISSING', 'BusinessType_PARTNERSHIP', '2DigitNaics_11',\n",
       "       '2DigitNaics_21', '2DigitNaics_22', '2DigitNaics_23', '2DigitNaics_31',\n",
       "       '2DigitNaics_32', '2DigitNaics_33', '2DigitNaics_42', '2DigitNaics_44',\n",
       "       '2DigitNaics_45', '2DigitNaics_48', '2DigitNaics_49', '2DigitNaics_51',\n",
       "       '2DigitNaics_52', '2DigitNaics_53', '2DigitNaics_54', '2DigitNaics_55',\n",
       "       '2DigitNaics_56', '2DigitNaics_61', '2DigitNaics_62', '2DigitNaics_71',\n",
       "       '2DigitNaics_72', '2DigitNaics_81', '2DigitNaics_MI'],\n",
       "      dtype='object')"
      ]
     },
     "execution_count": 5,
     "metadata": {},
     "output_type": "execute_result"
    }
   ],
   "source": [
    "x_train.columns"
   ]
  },
  {
   "cell_type": "code",
   "execution_count": 6,
   "metadata": {},
   "outputs": [],
   "source": [
    "## some values might not appear in one set compared to the other\n",
    "\n",
    "extra_cols = set(x_train.columns) - set(x_test.columns)\n",
    "for cols in extra_cols:\n",
    "    x_test[cols] = 0"
   ]
  },
  {
   "cell_type": "code",
   "execution_count": 7,
   "metadata": {},
   "outputs": [
    {
     "data": {
      "text/plain": [
       "Index(['ApprovalFiscalYear', 'TermInMonths', 'SP500_Yearly_Return', 'CPI',\n",
       "       'Yearly_Unemployment_Rate', 'Log_Yearly_Unemployment_Rate_Norm',\n",
       "       'Log_HPI_Norm', 'ThirdPartyDollars_Norm', 'TermMultipleYear',\n",
       "       'RepeatBorrower', 'BankStateneqBorrowerState',\n",
       "       'ProjectStateneqBorrowerState', 'DaysToDefault', 'loss_ratio',\n",
       "       'DeliveryMethod_504', 'DeliveryMethod_504REFI', 'DeliveryMethod_ALP',\n",
       "       'DeliveryMethod_PCLP', 'subpgmdesc_504 Refinance',\n",
       "       'subpgmdesc_Sec. 504 - Delta loans, funded 9/26/95',\n",
       "       'subpgmdesc_Sec. 504 - Loan Guarantees - Private Sector Financed',\n",
       "       'subpgmdesc_Sec. 504 - Premier Certified Lender Program',\n",
       "       'BusinessType_CORPORATION', 'BusinessType_INDIVIDUAL',\n",
       "       'BusinessType_MISSING', 'BusinessType_PARTNERSHIP', '2DigitNaics_11',\n",
       "       '2DigitNaics_21', '2DigitNaics_22', '2DigitNaics_23', '2DigitNaics_31',\n",
       "       '2DigitNaics_32', '2DigitNaics_33', '2DigitNaics_42', '2DigitNaics_44',\n",
       "       '2DigitNaics_45', '2DigitNaics_48', '2DigitNaics_49', '2DigitNaics_51',\n",
       "       '2DigitNaics_52', '2DigitNaics_53', '2DigitNaics_54', '2DigitNaics_55',\n",
       "       '2DigitNaics_56', '2DigitNaics_61', '2DigitNaics_62', '2DigitNaics_71',\n",
       "       '2DigitNaics_72', '2DigitNaics_81', '2DigitNaics_MI'],\n",
       "      dtype='object')"
      ]
     },
     "execution_count": 7,
     "metadata": {},
     "output_type": "execute_result"
    }
   ],
   "source": [
    "x_train.columns"
   ]
  },
  {
   "cell_type": "code",
   "execution_count": 8,
   "metadata": {},
   "outputs": [],
   "source": [
    "Y_train = x_train.loss_ratio\n",
    "X_train = x_train.drop(columns = [\"loss_ratio\"])"
   ]
  },
  {
   "cell_type": "markdown",
   "metadata": {},
   "source": [
    "baseline model, LR"
   ]
  },
  {
   "cell_type": "code",
   "execution_count": 9,
   "metadata": {},
   "outputs": [
    {
     "data": {
      "text/html": [
       "<table class=\"simpletable\">\n",
       "<caption>OLS Regression Results</caption>\n",
       "<tr>\n",
       "  <th>Dep. Variable:</th>       <td>loss_ratio</td>    <th>  R-squared:         </th> <td>   0.428</td>\n",
       "</tr>\n",
       "<tr>\n",
       "  <th>Model:</th>                   <td>OLS</td>       <th>  Adj. R-squared:    </th> <td>   0.425</td>\n",
       "</tr>\n",
       "<tr>\n",
       "  <th>Method:</th>             <td>Least Squares</td>  <th>  F-statistic:       </th> <td>   124.1</td>\n",
       "</tr>\n",
       "<tr>\n",
       "  <th>Date:</th>             <td>Mon, 07 Mar 2022</td> <th>  Prob (F-statistic):</th>  <td>  0.00</td> \n",
       "</tr>\n",
       "<tr>\n",
       "  <th>Time:</th>                 <td>23:35:46</td>     <th>  Log-Likelihood:    </th> <td> -634.07</td>\n",
       "</tr>\n",
       "<tr>\n",
       "  <th>No. Observations:</th>      <td>  7177</td>      <th>  AIC:               </th> <td>   1356.</td>\n",
       "</tr>\n",
       "<tr>\n",
       "  <th>Df Residuals:</th>          <td>  7133</td>      <th>  BIC:               </th> <td>   1659.</td>\n",
       "</tr>\n",
       "<tr>\n",
       "  <th>Df Model:</th>              <td>    43</td>      <th>                     </th>     <td> </td>   \n",
       "</tr>\n",
       "<tr>\n",
       "  <th>Covariance Type:</th>      <td>nonrobust</td>    <th>                     </th>     <td> </td>   \n",
       "</tr>\n",
       "</table>\n",
       "<table class=\"simpletable\">\n",
       "<tr>\n",
       "                                 <td></td>                                    <th>coef</th>     <th>std err</th>      <th>t</th>      <th>P>|t|</th>  <th>[0.025</th>    <th>0.975]</th>  \n",
       "</tr>\n",
       "<tr>\n",
       "  <th>ApprovalFiscalYear</th>                                              <td>    0.0662</td> <td>    0.002</td> <td>   29.738</td> <td> 0.000</td> <td>    0.062</td> <td>    0.071</td>\n",
       "</tr>\n",
       "<tr>\n",
       "  <th>TermInMonths</th>                                                    <td>    0.0006</td> <td>    0.000</td> <td>    4.536</td> <td> 0.000</td> <td>    0.000</td> <td>    0.001</td>\n",
       "</tr>\n",
       "<tr>\n",
       "  <th>SP500_Yearly_Return</th>                                             <td>   -0.0905</td> <td>    0.024</td> <td>   -3.772</td> <td> 0.000</td> <td>   -0.138</td> <td>   -0.043</td>\n",
       "</tr>\n",
       "<tr>\n",
       "  <th>CPI</th>                                                             <td>   -0.2258</td> <td>    0.053</td> <td>   -4.277</td> <td> 0.000</td> <td>   -0.329</td> <td>   -0.122</td>\n",
       "</tr>\n",
       "<tr>\n",
       "  <th>Yearly_Unemployment_Rate</th>                                        <td>   -0.0254</td> <td>    0.012</td> <td>   -2.031</td> <td> 0.042</td> <td>   -0.050</td> <td>   -0.001</td>\n",
       "</tr>\n",
       "<tr>\n",
       "  <th>Log_Yearly_Unemployment_Rate_Norm</th>                               <td>    0.0395</td> <td>    0.018</td> <td>    2.144</td> <td> 0.032</td> <td>    0.003</td> <td>    0.076</td>\n",
       "</tr>\n",
       "<tr>\n",
       "  <th>Log_HPI_Norm</th>                                                    <td>   -0.0083</td> <td>    0.004</td> <td>   -1.887</td> <td> 0.059</td> <td>   -0.017</td> <td>    0.000</td>\n",
       "</tr>\n",
       "<tr>\n",
       "  <th>ThirdPartyDollars_Norm</th>                                          <td>    0.0025</td> <td>    0.002</td> <td>    1.166</td> <td> 0.244</td> <td>   -0.002</td> <td>    0.007</td>\n",
       "</tr>\n",
       "<tr>\n",
       "  <th>TermMultipleYear</th>                                                <td>   -0.2239</td> <td>    0.078</td> <td>   -2.881</td> <td> 0.004</td> <td>   -0.376</td> <td>   -0.072</td>\n",
       "</tr>\n",
       "<tr>\n",
       "  <th>RepeatBorrower</th>                                                  <td>    0.0134</td> <td>    0.013</td> <td>    1.019</td> <td> 0.308</td> <td>   -0.012</td> <td>    0.039</td>\n",
       "</tr>\n",
       "<tr>\n",
       "  <th>BankStateneqBorrowerState</th>                                       <td>   -0.0059</td> <td>    0.012</td> <td>   -0.509</td> <td> 0.611</td> <td>   -0.028</td> <td>    0.017</td>\n",
       "</tr>\n",
       "<tr>\n",
       "  <th>ProjectStateneqBorrowerState</th>                                    <td>   -0.0944</td> <td>    0.059</td> <td>   -1.609</td> <td> 0.108</td> <td>   -0.209</td> <td>    0.021</td>\n",
       "</tr>\n",
       "<tr>\n",
       "  <th>DaysToDefault</th>                                                   <td> 8.205e-05</td> <td> 3.76e-06</td> <td>   21.834</td> <td> 0.000</td> <td> 7.47e-05</td> <td> 8.94e-05</td>\n",
       "</tr>\n",
       "<tr>\n",
       "  <th>DeliveryMethod_504</th>                                              <td>  -41.6291</td> <td>    1.396</td> <td>  -29.822</td> <td> 0.000</td> <td>  -44.365</td> <td>  -38.893</td>\n",
       "</tr>\n",
       "<tr>\n",
       "  <th>DeliveryMethod_504REFI</th>                                          <td>  -41.5396</td> <td>    1.405</td> <td>  -29.573</td> <td> 0.000</td> <td>  -44.293</td> <td>  -38.786</td>\n",
       "</tr>\n",
       "<tr>\n",
       "  <th>DeliveryMethod_ALP</th>                                              <td>  -41.6409</td> <td>    1.397</td> <td>  -29.817</td> <td> 0.000</td> <td>  -44.379</td> <td>  -38.903</td>\n",
       "</tr>\n",
       "<tr>\n",
       "  <th>DeliveryMethod_PCLP</th>                                             <td>  -41.5510</td> <td>    1.396</td> <td>  -29.762</td> <td> 0.000</td> <td>  -44.288</td> <td>  -38.814</td>\n",
       "</tr>\n",
       "<tr>\n",
       "  <th>subpgmdesc_504 Refinance</th>                                        <td>  -41.5396</td> <td>    1.405</td> <td>  -29.573</td> <td> 0.000</td> <td>  -44.293</td> <td>  -38.786</td>\n",
       "</tr>\n",
       "<tr>\n",
       "  <th>subpgmdesc_Sec. 504 - Delta loans, funded 9/26/95</th>               <td>  -41.8184</td> <td>    1.406</td> <td>  -29.738</td> <td> 0.000</td> <td>  -44.575</td> <td>  -39.062</td>\n",
       "</tr>\n",
       "<tr>\n",
       "  <th>subpgmdesc_Sec. 504 - Loan Guarantees - Private Sector Financed</th> <td>  -41.4516</td> <td>    1.401</td> <td>  -29.596</td> <td> 0.000</td> <td>  -44.197</td> <td>  -38.706</td>\n",
       "</tr>\n",
       "<tr>\n",
       "  <th>subpgmdesc_Sec. 504 - Premier Certified Lender Program</th>          <td>  -41.5510</td> <td>    1.396</td> <td>  -29.762</td> <td> 0.000</td> <td>  -44.288</td> <td>  -38.814</td>\n",
       "</tr>\n",
       "<tr>\n",
       "  <th>BusinessType_CORPORATION</th>                                        <td>  -41.5983</td> <td>    1.397</td> <td>  -29.766</td> <td> 0.000</td> <td>  -44.338</td> <td>  -38.859</td>\n",
       "</tr>\n",
       "<tr>\n",
       "  <th>BusinessType_INDIVIDUAL</th>                                         <td>  -41.6248</td> <td>    1.397</td> <td>  -29.795</td> <td> 0.000</td> <td>  -44.363</td> <td>  -38.886</td>\n",
       "</tr>\n",
       "<tr>\n",
       "  <th>BusinessType_MISSING</th>                                            <td>  -41.5589</td> <td>    1.397</td> <td>  -29.754</td> <td> 0.000</td> <td>  -44.297</td> <td>  -38.821</td>\n",
       "</tr>\n",
       "<tr>\n",
       "  <th>BusinessType_PARTNERSHIP</th>                                        <td>  -41.5787</td> <td>    1.397</td> <td>  -29.757</td> <td> 0.000</td> <td>  -44.318</td> <td>  -38.840</td>\n",
       "</tr>\n",
       "<tr>\n",
       "  <th>2DigitNaics_11</th>                                                  <td>   -6.9513</td> <td>    0.236</td> <td>  -29.402</td> <td> 0.000</td> <td>   -7.415</td> <td>   -6.488</td>\n",
       "</tr>\n",
       "<tr>\n",
       "  <th>2DigitNaics_21</th>                                                  <td>   -6.8679</td> <td>    0.253</td> <td>  -27.121</td> <td> 0.000</td> <td>   -7.364</td> <td>   -6.371</td>\n",
       "</tr>\n",
       "<tr>\n",
       "  <th>2DigitNaics_22</th>                                                  <td>   -6.7512</td> <td>    0.345</td> <td>  -19.586</td> <td> 0.000</td> <td>   -7.427</td> <td>   -6.076</td>\n",
       "</tr>\n",
       "<tr>\n",
       "  <th>2DigitNaics_23</th>                                                  <td>   -6.9517</td> <td>    0.234</td> <td>  -29.724</td> <td> 0.000</td> <td>   -7.410</td> <td>   -6.493</td>\n",
       "</tr>\n",
       "<tr>\n",
       "  <th>2DigitNaics_31</th>                                                  <td>   -6.9689</td> <td>    0.235</td> <td>  -29.693</td> <td> 0.000</td> <td>   -7.429</td> <td>   -6.509</td>\n",
       "</tr>\n",
       "<tr>\n",
       "  <th>2DigitNaics_32</th>                                                  <td>   -6.9470</td> <td>    0.234</td> <td>  -29.669</td> <td> 0.000</td> <td>   -7.406</td> <td>   -6.488</td>\n",
       "</tr>\n",
       "<tr>\n",
       "  <th>2DigitNaics_33</th>                                                  <td>   -6.8973</td> <td>    0.234</td> <td>  -29.504</td> <td> 0.000</td> <td>   -7.356</td> <td>   -6.439</td>\n",
       "</tr>\n",
       "<tr>\n",
       "  <th>2DigitNaics_42</th>                                                  <td>   -6.9534</td> <td>    0.234</td> <td>  -29.777</td> <td> 0.000</td> <td>   -7.411</td> <td>   -6.496</td>\n",
       "</tr>\n",
       "<tr>\n",
       "  <th>2DigitNaics_44</th>                                                  <td>   -6.9194</td> <td>    0.234</td> <td>  -29.530</td> <td> 0.000</td> <td>   -7.379</td> <td>   -6.460</td>\n",
       "</tr>\n",
       "<tr>\n",
       "  <th>2DigitNaics_45</th>                                                  <td>   -6.9493</td> <td>    0.234</td> <td>  -29.638</td> <td> 0.000</td> <td>   -7.409</td> <td>   -6.490</td>\n",
       "</tr>\n",
       "<tr>\n",
       "  <th>2DigitNaics_48</th>                                                  <td>   -6.8809</td> <td>    0.236</td> <td>  -29.146</td> <td> 0.000</td> <td>   -7.344</td> <td>   -6.418</td>\n",
       "</tr>\n",
       "<tr>\n",
       "  <th>2DigitNaics_49</th>                                                  <td>   -7.0058</td> <td>    0.245</td> <td>  -28.647</td> <td> 0.000</td> <td>   -7.485</td> <td>   -6.526</td>\n",
       "</tr>\n",
       "<tr>\n",
       "  <th>2DigitNaics_51</th>                                                  <td>   -6.9742</td> <td>    0.236</td> <td>  -29.546</td> <td> 0.000</td> <td>   -7.437</td> <td>   -6.511</td>\n",
       "</tr>\n",
       "<tr>\n",
       "  <th>2DigitNaics_52</th>                                                  <td>   -6.8917</td> <td>    0.235</td> <td>  -29.283</td> <td> 0.000</td> <td>   -7.353</td> <td>   -6.430</td>\n",
       "</tr>\n",
       "<tr>\n",
       "  <th>2DigitNaics_53</th>                                                  <td>   -6.8893</td> <td>    0.235</td> <td>  -29.312</td> <td> 0.000</td> <td>   -7.350</td> <td>   -6.429</td>\n",
       "</tr>\n",
       "<tr>\n",
       "  <th>2DigitNaics_54</th>                                                  <td>   -6.9151</td> <td>    0.234</td> <td>  -29.526</td> <td> 0.000</td> <td>   -7.374</td> <td>   -6.456</td>\n",
       "</tr>\n",
       "<tr>\n",
       "  <th>2DigitNaics_55</th>                                                  <td>   -7.2936</td> <td>    0.344</td> <td>  -21.225</td> <td> 0.000</td> <td>   -7.967</td> <td>   -6.620</td>\n",
       "</tr>\n",
       "<tr>\n",
       "  <th>2DigitNaics_56</th>                                                  <td>   -6.9295</td> <td>    0.235</td> <td>  -29.492</td> <td> 0.000</td> <td>   -7.390</td> <td>   -6.469</td>\n",
       "</tr>\n",
       "<tr>\n",
       "  <th>2DigitNaics_61</th>                                                  <td>   -6.8896</td> <td>    0.238</td> <td>  -29.003</td> <td> 0.000</td> <td>   -7.355</td> <td>   -6.424</td>\n",
       "</tr>\n",
       "<tr>\n",
       "  <th>2DigitNaics_62</th>                                                  <td>   -6.9180</td> <td>    0.234</td> <td>  -29.502</td> <td> 0.000</td> <td>   -7.378</td> <td>   -6.458</td>\n",
       "</tr>\n",
       "<tr>\n",
       "  <th>2DigitNaics_71</th>                                                  <td>   -6.9063</td> <td>    0.234</td> <td>  -29.498</td> <td> 0.000</td> <td>   -7.365</td> <td>   -6.447</td>\n",
       "</tr>\n",
       "<tr>\n",
       "  <th>2DigitNaics_72</th>                                                  <td>   -6.8926</td> <td>    0.235</td> <td>  -29.387</td> <td> 0.000</td> <td>   -7.352</td> <td>   -6.433</td>\n",
       "</tr>\n",
       "<tr>\n",
       "  <th>2DigitNaics_81</th>                                                  <td>   -6.8728</td> <td>    0.234</td> <td>  -29.344</td> <td> 0.000</td> <td>   -7.332</td> <td>   -6.414</td>\n",
       "</tr>\n",
       "<tr>\n",
       "  <th>2DigitNaics_MI</th>                                                  <td>   -6.9437</td> <td>    0.228</td> <td>  -30.475</td> <td> 0.000</td> <td>   -7.390</td> <td>   -6.497</td>\n",
       "</tr>\n",
       "</table>\n",
       "<table class=\"simpletable\">\n",
       "<tr>\n",
       "  <th>Omnibus:</th>       <td>1356.914</td> <th>  Durbin-Watson:     </th> <td>   2.027</td>\n",
       "</tr>\n",
       "<tr>\n",
       "  <th>Prob(Omnibus):</th>  <td> 0.000</td>  <th>  Jarque-Bera (JB):  </th> <td>2537.326</td>\n",
       "</tr>\n",
       "<tr>\n",
       "  <th>Skew:</th>           <td>-1.172</td>  <th>  Prob(JB):          </th> <td>    0.00</td>\n",
       "</tr>\n",
       "<tr>\n",
       "  <th>Kurtosis:</th>       <td> 4.729</td>  <th>  Cond. No.          </th> <td>1.39e+16</td>\n",
       "</tr>\n",
       "</table><br/><br/>Notes:<br/>[1] Standard Errors assume that the covariance matrix of the errors is correctly specified.<br/>[2] The smallest eigenvalue is 3.57e-22. This might indicate that there are<br/>strong multicollinearity problems or that the design matrix is singular."
      ],
      "text/plain": [
       "<class 'statsmodels.iolib.summary.Summary'>\n",
       "\"\"\"\n",
       "                            OLS Regression Results                            \n",
       "==============================================================================\n",
       "Dep. Variable:             loss_ratio   R-squared:                       0.428\n",
       "Model:                            OLS   Adj. R-squared:                  0.425\n",
       "Method:                 Least Squares   F-statistic:                     124.1\n",
       "Date:                Mon, 07 Mar 2022   Prob (F-statistic):               0.00\n",
       "Time:                        23:35:46   Log-Likelihood:                -634.07\n",
       "No. Observations:                7177   AIC:                             1356.\n",
       "Df Residuals:                    7133   BIC:                             1659.\n",
       "Df Model:                          43                                         \n",
       "Covariance Type:            nonrobust                                         \n",
       "===================================================================================================================================\n",
       "                                                                      coef    std err          t      P>|t|      [0.025      0.975]\n",
       "-----------------------------------------------------------------------------------------------------------------------------------\n",
       "ApprovalFiscalYear                                                  0.0662      0.002     29.738      0.000       0.062       0.071\n",
       "TermInMonths                                                        0.0006      0.000      4.536      0.000       0.000       0.001\n",
       "SP500_Yearly_Return                                                -0.0905      0.024     -3.772      0.000      -0.138      -0.043\n",
       "CPI                                                                -0.2258      0.053     -4.277      0.000      -0.329      -0.122\n",
       "Yearly_Unemployment_Rate                                           -0.0254      0.012     -2.031      0.042      -0.050      -0.001\n",
       "Log_Yearly_Unemployment_Rate_Norm                                   0.0395      0.018      2.144      0.032       0.003       0.076\n",
       "Log_HPI_Norm                                                       -0.0083      0.004     -1.887      0.059      -0.017       0.000\n",
       "ThirdPartyDollars_Norm                                              0.0025      0.002      1.166      0.244      -0.002       0.007\n",
       "TermMultipleYear                                                   -0.2239      0.078     -2.881      0.004      -0.376      -0.072\n",
       "RepeatBorrower                                                      0.0134      0.013      1.019      0.308      -0.012       0.039\n",
       "BankStateneqBorrowerState                                          -0.0059      0.012     -0.509      0.611      -0.028       0.017\n",
       "ProjectStateneqBorrowerState                                       -0.0944      0.059     -1.609      0.108      -0.209       0.021\n",
       "DaysToDefault                                                    8.205e-05   3.76e-06     21.834      0.000    7.47e-05    8.94e-05\n",
       "DeliveryMethod_504                                                -41.6291      1.396    -29.822      0.000     -44.365     -38.893\n",
       "DeliveryMethod_504REFI                                            -41.5396      1.405    -29.573      0.000     -44.293     -38.786\n",
       "DeliveryMethod_ALP                                                -41.6409      1.397    -29.817      0.000     -44.379     -38.903\n",
       "DeliveryMethod_PCLP                                               -41.5510      1.396    -29.762      0.000     -44.288     -38.814\n",
       "subpgmdesc_504 Refinance                                          -41.5396      1.405    -29.573      0.000     -44.293     -38.786\n",
       "subpgmdesc_Sec. 504 - Delta loans, funded 9/26/95                 -41.8184      1.406    -29.738      0.000     -44.575     -39.062\n",
       "subpgmdesc_Sec. 504 - Loan Guarantees - Private Sector Financed   -41.4516      1.401    -29.596      0.000     -44.197     -38.706\n",
       "subpgmdesc_Sec. 504 - Premier Certified Lender Program            -41.5510      1.396    -29.762      0.000     -44.288     -38.814\n",
       "BusinessType_CORPORATION                                          -41.5983      1.397    -29.766      0.000     -44.338     -38.859\n",
       "BusinessType_INDIVIDUAL                                           -41.6248      1.397    -29.795      0.000     -44.363     -38.886\n",
       "BusinessType_MISSING                                              -41.5589      1.397    -29.754      0.000     -44.297     -38.821\n",
       "BusinessType_PARTNERSHIP                                          -41.5787      1.397    -29.757      0.000     -44.318     -38.840\n",
       "2DigitNaics_11                                                     -6.9513      0.236    -29.402      0.000      -7.415      -6.488\n",
       "2DigitNaics_21                                                     -6.8679      0.253    -27.121      0.000      -7.364      -6.371\n",
       "2DigitNaics_22                                                     -6.7512      0.345    -19.586      0.000      -7.427      -6.076\n",
       "2DigitNaics_23                                                     -6.9517      0.234    -29.724      0.000      -7.410      -6.493\n",
       "2DigitNaics_31                                                     -6.9689      0.235    -29.693      0.000      -7.429      -6.509\n",
       "2DigitNaics_32                                                     -6.9470      0.234    -29.669      0.000      -7.406      -6.488\n",
       "2DigitNaics_33                                                     -6.8973      0.234    -29.504      0.000      -7.356      -6.439\n",
       "2DigitNaics_42                                                     -6.9534      0.234    -29.777      0.000      -7.411      -6.496\n",
       "2DigitNaics_44                                                     -6.9194      0.234    -29.530      0.000      -7.379      -6.460\n",
       "2DigitNaics_45                                                     -6.9493      0.234    -29.638      0.000      -7.409      -6.490\n",
       "2DigitNaics_48                                                     -6.8809      0.236    -29.146      0.000      -7.344      -6.418\n",
       "2DigitNaics_49                                                     -7.0058      0.245    -28.647      0.000      -7.485      -6.526\n",
       "2DigitNaics_51                                                     -6.9742      0.236    -29.546      0.000      -7.437      -6.511\n",
       "2DigitNaics_52                                                     -6.8917      0.235    -29.283      0.000      -7.353      -6.430\n",
       "2DigitNaics_53                                                     -6.8893      0.235    -29.312      0.000      -7.350      -6.429\n",
       "2DigitNaics_54                                                     -6.9151      0.234    -29.526      0.000      -7.374      -6.456\n",
       "2DigitNaics_55                                                     -7.2936      0.344    -21.225      0.000      -7.967      -6.620\n",
       "2DigitNaics_56                                                     -6.9295      0.235    -29.492      0.000      -7.390      -6.469\n",
       "2DigitNaics_61                                                     -6.8896      0.238    -29.003      0.000      -7.355      -6.424\n",
       "2DigitNaics_62                                                     -6.9180      0.234    -29.502      0.000      -7.378      -6.458\n",
       "2DigitNaics_71                                                     -6.9063      0.234    -29.498      0.000      -7.365      -6.447\n",
       "2DigitNaics_72                                                     -6.8926      0.235    -29.387      0.000      -7.352      -6.433\n",
       "2DigitNaics_81                                                     -6.8728      0.234    -29.344      0.000      -7.332      -6.414\n",
       "2DigitNaics_MI                                                     -6.9437      0.228    -30.475      0.000      -7.390      -6.497\n",
       "==============================================================================\n",
       "Omnibus:                     1356.914   Durbin-Watson:                   2.027\n",
       "Prob(Omnibus):                  0.000   Jarque-Bera (JB):             2537.326\n",
       "Skew:                          -1.172   Prob(JB):                         0.00\n",
       "Kurtosis:                       4.729   Cond. No.                     1.39e+16\n",
       "==============================================================================\n",
       "\n",
       "Notes:\n",
       "[1] Standard Errors assume that the covariance matrix of the errors is correctly specified.\n",
       "[2] The smallest eigenvalue is 3.57e-22. This might indicate that there are\n",
       "strong multicollinearity problems or that the design matrix is singular.\n",
       "\"\"\""
      ]
     },
     "execution_count": 9,
     "metadata": {},
     "output_type": "execute_result"
    }
   ],
   "source": [
    "import statsmodels.api as sm\n",
    "\n",
    "loss_model = sm.OLS(Y_train, X_train.astype(float)).fit()\n",
    "loss_model.summary()"
   ]
  },
  {
   "cell_type": "code",
   "execution_count": 10,
   "metadata": {},
   "outputs": [
    {
     "data": {
      "text/plain": [
       "0.06986566186524686"
      ]
     },
     "execution_count": 10,
     "metadata": {},
     "output_type": "execute_result"
    }
   ],
   "source": [
    "from sklearn.metrics import mean_squared_error\n",
    "\n",
    "mean_squared_error(Y_train, loss_model.predict(X_train))"
   ]
  },
  {
   "cell_type": "code",
   "execution_count": 11,
   "metadata": {},
   "outputs": [],
   "source": [
    "Y_test = x_test.loss_ratio\n",
    "X_test = x_test.drop(columns = [\"loss_ratio\"])"
   ]
  },
  {
   "cell_type": "code",
   "execution_count": 12,
   "metadata": {},
   "outputs": [
    {
     "name": "stdout",
     "output_type": "stream",
     "text": [
      "94.57163406930628\n"
     ]
    }
   ],
   "source": [
    "predicted = loss_model.predict(X_test)\n",
    "\n",
    "error = mean_squared_error(Y_test, predicted)\n",
    "print(error)"
   ]
  },
  {
   "cell_type": "markdown",
   "metadata": {},
   "source": [
    "trying other models\n",
    "\n"
   ]
  },
  {
   "cell_type": "code",
   "execution_count": 13,
   "metadata": {},
   "outputs": [],
   "source": [
    "from sklearn.model_selection import train_test_split\n",
    "from sklearn.model_selection import KFold\n",
    "from sklearn.model_selection import cross_val_score\n",
    "from sklearn.model_selection import GridSearchCV\n",
    "\n",
    "from sklearn.linear_model import LinearRegression\n",
    "from sklearn.linear_model import Lasso\n",
    "from sklearn.linear_model import ElasticNet\n",
    "from sklearn.tree import DecisionTreeRegressor\n",
    "from sklearn.neighbors import KNeighborsRegressor\n",
    "from sklearn.svm import SVR\n",
    "from sklearn.ensemble import RandomForestRegressor\n",
    "from sklearn.ensemble import GradientBoostingRegressor\n",
    "from sklearn.ensemble import ExtraTreesRegressor\n",
    "from sklearn.ensemble import AdaBoostRegressor\n",
    "from sklearn.neural_network import MLPRegressor\n",
    "import statsmodels.api as sm"
   ]
  },
  {
   "cell_type": "markdown",
   "metadata": {},
   "source": [
    "Regression and Tree Regression algorithms"
   ]
  },
  {
   "cell_type": "code",
   "execution_count": 14,
   "metadata": {},
   "outputs": [],
   "source": [
    "models = []\n",
    "models.append(('LR', LinearRegression()))\n",
    "models.append(('LASSO', Lasso()))\n",
    "models.append(('EN', ElasticNet()))\n",
    "models.append(('KNN', KNeighborsRegressor()))\n",
    "models.append(('CART', DecisionTreeRegressor()))\n",
    "models.append(('SVR', SVR()))"
   ]
  },
  {
   "cell_type": "markdown",
   "metadata": {},
   "source": [
    "Ensable Models\n"
   ]
  },
  {
   "cell_type": "code",
   "execution_count": 15,
   "metadata": {},
   "outputs": [],
   "source": [
    "# Boosting methods\n",
    "models.append(('ABR', AdaBoostRegressor()))\n",
    "models.append(('GBR', GradientBoostingRegressor()))\n",
    "# Bagging methods\n",
    "models.append(('RFR', RandomForestRegressor()))\n",
    "models.append(('ETR', ExtraTreesRegressor()))"
   ]
  },
  {
   "cell_type": "code",
   "execution_count": 18,
   "metadata": {},
   "outputs": [
    {
     "name": "stdout",
     "output_type": "stream",
     "text": [
      "LR: 0.070798 (0.003922) 0.069866 0.209469\n"
     ]
    },
    {
     "name": "stderr",
     "output_type": "stream",
     "text": [
      "/Users/weihongho/opt/anaconda3/lib/python3.8/site-packages/sklearn/model_selection/_split.py:293: FutureWarning: Setting a random_state has no effect since shuffle is False. This will raise an error in 0.24. You should leave random_state to its default (None), or set shuffle=True.\n",
      "  warnings.warn(\n"
     ]
    },
    {
     "name": "stdout",
     "output_type": "stream",
     "text": [
      "LASSO: 0.120595 (0.008084) 0.120455 0.117718\n"
     ]
    },
    {
     "name": "stderr",
     "output_type": "stream",
     "text": [
      "/Users/weihongho/opt/anaconda3/lib/python3.8/site-packages/sklearn/model_selection/_split.py:293: FutureWarning: Setting a random_state has no effect since shuffle is False. This will raise an error in 0.24. You should leave random_state to its default (None), or set shuffle=True.\n",
      "  warnings.warn(\n"
     ]
    },
    {
     "name": "stdout",
     "output_type": "stream",
     "text": [
      "EN: 0.091701 (0.005961) 0.091514 0.089082\n"
     ]
    },
    {
     "name": "stderr",
     "output_type": "stream",
     "text": [
      "/Users/weihongho/opt/anaconda3/lib/python3.8/site-packages/sklearn/model_selection/_split.py:293: FutureWarning: Setting a random_state has no effect since shuffle is False. This will raise an error in 0.24. You should leave random_state to its default (None), or set shuffle=True.\n",
      "  warnings.warn(\n"
     ]
    },
    {
     "name": "stdout",
     "output_type": "stream",
     "text": [
      "KNN: 0.090749 (0.004569) 0.058314 0.089839\n"
     ]
    },
    {
     "name": "stderr",
     "output_type": "stream",
     "text": [
      "/Users/weihongho/opt/anaconda3/lib/python3.8/site-packages/sklearn/model_selection/_split.py:293: FutureWarning: Setting a random_state has no effect since shuffle is False. This will raise an error in 0.24. You should leave random_state to its default (None), or set shuffle=True.\n",
      "  warnings.warn(\n"
     ]
    },
    {
     "name": "stdout",
     "output_type": "stream",
     "text": [
      "CART: 0.115665 (0.006990) 0.000000 0.125165\n"
     ]
    },
    {
     "name": "stderr",
     "output_type": "stream",
     "text": [
      "/Users/weihongho/opt/anaconda3/lib/python3.8/site-packages/sklearn/model_selection/_split.py:293: FutureWarning: Setting a random_state has no effect since shuffle is False. This will raise an error in 0.24. You should leave random_state to its default (None), or set shuffle=True.\n",
      "  warnings.warn(\n"
     ]
    },
    {
     "name": "stdout",
     "output_type": "stream",
     "text": [
      "SVR: 0.128971 (0.011455) 0.128567 0.127034\n"
     ]
    },
    {
     "name": "stderr",
     "output_type": "stream",
     "text": [
      "/Users/weihongho/opt/anaconda3/lib/python3.8/site-packages/sklearn/model_selection/_split.py:293: FutureWarning: Setting a random_state has no effect since shuffle is False. This will raise an error in 0.24. You should leave random_state to its default (None), or set shuffle=True.\n",
      "  warnings.warn(\n"
     ]
    },
    {
     "name": "stdout",
     "output_type": "stream",
     "text": [
      "ABR: 0.072530 (0.004788) 0.078219 0.075075\n"
     ]
    },
    {
     "name": "stderr",
     "output_type": "stream",
     "text": [
      "/Users/weihongho/opt/anaconda3/lib/python3.8/site-packages/sklearn/model_selection/_split.py:293: FutureWarning: Setting a random_state has no effect since shuffle is False. This will raise an error in 0.24. You should leave random_state to its default (None), or set shuffle=True.\n",
      "  warnings.warn(\n"
     ]
    },
    {
     "name": "stdout",
     "output_type": "stream",
     "text": [
      "GBR: 0.061505 (0.004523) 0.056297 0.058235\n"
     ]
    },
    {
     "name": "stderr",
     "output_type": "stream",
     "text": [
      "/Users/weihongho/opt/anaconda3/lib/python3.8/site-packages/sklearn/model_selection/_split.py:293: FutureWarning: Setting a random_state has no effect since shuffle is False. This will raise an error in 0.24. You should leave random_state to its default (None), or set shuffle=True.\n",
      "  warnings.warn(\n"
     ]
    },
    {
     "name": "stdout",
     "output_type": "stream",
     "text": [
      "RFR: 0.061868 (0.004794) 0.008735 0.059148\n"
     ]
    },
    {
     "name": "stderr",
     "output_type": "stream",
     "text": [
      "/Users/weihongho/opt/anaconda3/lib/python3.8/site-packages/sklearn/model_selection/_split.py:293: FutureWarning: Setting a random_state has no effect since shuffle is False. This will raise an error in 0.24. You should leave random_state to its default (None), or set shuffle=True.\n",
      "  warnings.warn(\n"
     ]
    },
    {
     "name": "stdout",
     "output_type": "stream",
     "text": [
      "ETR: 0.068479 (0.006027) 0.000000 0.067728\n"
     ]
    }
   ],
   "source": [
    "names = []\n",
    "kfold_results = []\n",
    "test_results = []\n",
    "train_results = []\n",
    "num_folds = 10\n",
    "seed = 7\n",
    "scoring = 'neg_mean_squared_error' \n",
    "\n",
    "\n",
    "for name, model in models:\n",
    "    names.append(name)\n",
    "    \n",
    "    ## K Fold analysis:\n",
    "    \n",
    "    kfold = KFold(n_splits=num_folds, random_state=seed)\n",
    "    #converted mean square error to positive. The lower the beter\n",
    "    cv_results = -1* cross_val_score(model, X_train, Y_train, cv=kfold, scoring=scoring)\n",
    "    kfold_results.append(cv_results)\n",
    "    \n",
    "\n",
    "    # Full Training period\n",
    "    res = model.fit(X_train, Y_train)\n",
    "    train_result = mean_squared_error(res.predict(X_train), Y_train)\n",
    "    train_results.append(train_result)\n",
    "    \n",
    "    # Test results\n",
    "    test_result = mean_squared_error(res.predict(X_test), Y_test)\n",
    "    test_results.append(test_result)\n",
    "    \n",
    "    msg = \"%s: %f (%f) %f %f\" % (name, cv_results.mean(), cv_results.std(), train_result, test_result)\n",
    "    print(msg)"
   ]
  },
  {
   "cell_type": "code",
   "execution_count": 19,
   "metadata": {},
   "outputs": [
    {
     "data": {
      "image/png": "[encoded data removed]",
      "text/plain": [
       "<Figure size 1080x576 with 1 Axes>"
      ]
     },
     "metadata": {
      "needs_background": "light"
     },
     "output_type": "display_data"
    }
   ],
   "source": [
    "from matplotlib import pyplot\n",
    "\n",
    "fig = pyplot.figure()\n",
    "fig.suptitle('Algorithm Comparison: Kfold results')\n",
    "ax = fig.add_subplot(111)\n",
    "pyplot.boxplot(kfold_results)\n",
    "ax.set_xticklabels(names)\n",
    "fig.set_size_inches(15,8)\n",
    "pyplot.show()"
   ]
  },
  {
   "cell_type": "code",
   "execution_count": 20,
   "metadata": {},
   "outputs": [
    {
     "data": {
      "image/png": "[encoded data removed]",
      "text/plain": [
       "<Figure size 1080x576 with 1 Axes>"
      ]
     },
     "metadata": {
      "needs_background": "light"
     },
     "output_type": "display_data"
    }
   ],
   "source": [
    "# compare algorithms\n",
    "fig = pyplot.figure()\n",
    "\n",
    "ind = np.arange(len(names))  # the x locations for the groups\n",
    "width = 0.35  # the width of the bars\n",
    "\n",
    "fig.suptitle('Algorithm Comparison')\n",
    "ax = fig.add_subplot(111)\n",
    "pyplot.bar(ind - width/2, train_results,  width=width, label='Train Error')\n",
    "pyplot.bar(ind + width/2, test_results, width=width, label='Test Error')\n",
    "fig.set_size_inches(15,8)\n",
    "pyplot.legend()\n",
    "ax.set_xticks(ind)\n",
    "ax.set_xticklabels(names)\n",
    "pyplot.show()"
   ]
  },
  {
   "cell_type": "markdown",
   "metadata": {},
   "source": [
    "Looking at the training and test error, we should pick something with low test error. We can see emsembles method work especially well here.\n",
    "\n",
    "If there's GPU compute resources, we are able to include more algorithms. For example,\n",
    "\n",
    "`models.append(('MLP', MLPRegressor()))`\n",
    "\n",
    "We can also look at time series model, ARIMA, LSTM, etc.\n",
    "\n",
    "For this project, we will focus on the using gradient boosting regressor, for calculation of v@r and traunche."
   ]
  },
  {
   "cell_type": "code",
   "execution_count": 25,
   "metadata": {},
   "outputs": [
    {
     "name": "stdout",
     "output_type": "stream",
     "text": [
      "GBR: 0.061494 (0.004519) 0.056297 0.058186\n"
     ]
    }
   ],
   "source": [
    "for name, model in models:\n",
    "    if name != \"GBR\":\n",
    "        continue\n",
    "    # names.append(name)\n",
    "    \n",
    "    ## K Fold analysis:\n",
    "    \n",
    "    kfold = KFold(n_splits=num_folds)\n",
    "    #converted mean square error to positive. The lower the beter\n",
    "    cv_results = -1* cross_val_score(model, X_train, Y_train, cv=kfold, scoring=scoring)\n",
    "    # kfold_results.append(cv_results)\n",
    "    \n",
    "\n",
    "    # Full Training period\n",
    "    res = model.fit(X_train, Y_train)\n",
    "    train_result = mean_squared_error(res.predict(X_train), Y_train)\n",
    "    # train_results.append(train_result)\n",
    "    \n",
    "    # Test results\n",
    "    test_result = mean_squared_error(res.predict(X_test), Y_test)\n",
    "    # test_results.append(test_result)\n",
    "    \n",
    "    msg = \"%s: %f (%f) %f %f\" % (name, cv_results.mean(), cv_results.std(), train_result, test_result)\n",
    "    print(msg)\n",
    "    if name == \"GBR\":\n",
    "        break"
   ]
  },
  {
   "cell_type": "code",
   "execution_count": 30,
   "metadata": {},
   "outputs": [],
   "source": [
    "loss_model = res"
   ]
  },
  {
   "cell_type": "code",
   "execution_count": 31,
   "metadata": {},
   "outputs": [
    {
     "name": "stdout",
     "output_type": "stream",
     "text": [
      "Stored 'loss_model' (GradientBoostingRegressor)\n"
     ]
    }
   ],
   "source": [
    "%store loss_model"
   ]
  },
  {
   "cell_type": "code",
   "execution_count": 39,
   "metadata": {},
   "outputs": [
    {
     "data": {
      "application/javascript": [
       "window.require && require([\"base/js/namespace\"],function(Jupyter){Jupyter.notebook.save_checkpoint()})"
      ],
      "text/plain": [
       "<IPython.core.display.Javascript object>"
      ]
     },
     "metadata": {},
     "output_type": "display_data"
    },
    {
     "name": "stdout",
     "output_type": "stream",
     "text": [
      "[jovian] Committed successfully! https://jovian.ai/weihong15/model-building\u001b[0m\n"
     ]
    },
    {
     "data": {
      "text/plain": [
       "'https://jovian.ai/weihong15/model-building'"
      ]
     },
     "execution_count": 39,
     "metadata": {},
     "output_type": "execute_result"
    }
   ],
   "source": [
    "import jovian\n",
    "jovian.commit()"
   ]
  },
  {
   "cell_type": "code",
   "execution_count": null,
   "metadata": {},
   "outputs": [],
   "source": []
  }
 ],
 "metadata": {
  "kernelspec": {
   "display_name": "Python 3",
   "language": "python",
   "name": "python3"
  },
  "language_info": {
   "codemirror_mode": {
    "name": "ipython",
    "version": 3
   },
   "file_extension": ".py",
   "mimetype": "text/x-python",
   "name": "python",
   "nbconvert_exporter": "python",
   "pygments_lexer": "ipython3",
   "version": "3.8.5"
  },
  "toc": {
   "base_numbering": 1,
   "nav_menu": {},
   "number_sections": true,
   "sideBar": true,
   "skip_h1_title": false,
   "title_cell": "Table of Contents",
   "title_sidebar": "Contents",
   "toc_cell": false,
   "toc_position": {},
   "toc_section_display": true,
   "toc_window_display": false
  }
 },
 "nbformat": 4,
 "nbformat_minor": 4
}
